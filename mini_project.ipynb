{
 "cells": [
  {
   "cell_type": "markdown",
   "metadata": {},
   "source": [
    "# Mini Project \n",
    "# Partie 1 \n",
    "\n",
    "## Importation des bibliothèques\n"
   ]
  },
  {
   "cell_type": "code",
   "execution_count": 983,
   "metadata": {},
   "outputs": [],
   "source": [
    "import pandas as pd\n",
    "import matplotlib.pyplot as plt"
   ]
  },
  {
   "cell_type": "markdown",
   "metadata": {},
   "source": [
    "1. Faire les traitements nécessaires pour charger et fusionner les fichiers.\n"
   ]
  },
  {
   "cell_type": "code",
   "execution_count": 984,
   "metadata": {},
   "outputs": [],
   "source": [
    "def concatenate_files(path1: str, path2: str, delem: str = \";\") -> pd.DataFrame:\n",
    "    \"\"\"this function takes two csv files and concatenate them into one dataframe\"\"\"\n",
    "    # Read the files\n",
    "    filep1 = pd.read_csv(path1, delimiter=delem, decimal=\",\")\n",
    "    filep2 = pd.read_csv(path2, delimiter=delem, decimal=\",\")\n",
    "    # rename the last column for the two files\n",
    "    filep2.rename(columns={\"m\": \"Price\"}, inplace=True)\n",
    "    # return Concatenate the files\n",
    "    return pd.concat([filep1, filep2])"
   ]
  },
  {
   "cell_type": "code",
   "execution_count": 985,
   "metadata": {},
   "outputs": [
    {
     "name": "stdout",
     "output_type": "stream",
     "text": [
      "<class 'pandas.core.frame.DataFrame'>\n",
      "Index: 12725 entries, 0 to 5921\n",
      "Data columns (total 3 columns):\n",
      " #   Column         Non-Null Count  Dtype  \n",
      "---  ------         --------------  -----  \n",
      " 0   Customer_ID    12725 non-null  int64  \n",
      " 1   Date_purchase  12710 non-null  object \n",
      " 2   Price          12704 non-null  float64\n",
      "dtypes: float64(1), int64(1), object(1)\n",
      "memory usage: 397.7+ KB\n",
      "None\n"
     ]
    }
   ],
   "source": [
    "concatenated_df = concatenate_files(\n",
    "    \"dataset_P1(Nov2013-June2014).csv\", \"dataset_P2(July2014-January2015).csv\"\n",
    ")\n",
    "# Convert the Price column to numeric values\n",
    "concatenated_df[\"Price\"] = pd.to_numeric(concatenated_df[\"Price\"], errors=\"coerce\")\n",
    "print(concatenated_df.info())\n"
   ]
  },
  {
   "cell_type": "markdown",
   "metadata": {},
   "source": [
    "2. Pour chaque colonne donner le nombre de valeurs manquantes."
   ]
  },
  {
   "cell_type": "code",
   "execution_count": 986,
   "metadata": {},
   "outputs": [],
   "source": [
    "def calculate_null_values(df: pd.DataFrame) -> pd.DataFrame:\n",
    "    \"\"\"function takes a dataframe and return the number of null values for each column\n",
    "    parameters : df : dataframe\n",
    "    \"\"\"\n",
    "    # return the null values\n",
    "    return df.isnull().sum()"
   ]
  },
  {
   "cell_type": "code",
   "execution_count": 987,
   "metadata": {},
   "outputs": [
    {
     "name": "stdout",
     "output_type": "stream",
     "text": [
      "Customer_ID       0\n",
      "Date_purchase    15\n",
      "Price            21\n",
      "dtype: int64\n"
     ]
    }
   ],
   "source": [
    "null_values = concatenated_df.isnull().sum()\n",
    "print(null_values)"
   ]
  },
  {
   "cell_type": "markdown",
   "metadata": {},
   "source": [
    "3. Afficher un data frame avec toutes les lignes qui ont au moins une valeur manquante."
   ]
  },
  {
   "cell_type": "code",
   "execution_count": 988,
   "metadata": {},
   "outputs": [],
   "source": [
    "def return_lines_with_null_values(df: pd.DataFrame) -> pd.DataFrame:\n",
    "    # return the lines with null values in any column\n",
    "    return df[df.isnull().any(axis=1)]"
   ]
  },
  {
   "cell_type": "code",
   "execution_count": 989,
   "metadata": {},
   "outputs": [
    {
     "name": "stdout",
     "output_type": "stream",
     "text": [
      "      Customer_ID  Date_purchase   Price\n",
      "0               1     02/11/2013     NaN\n",
      "2               3     05/11/2013     NaN\n",
      "65             36            NaN   784.0\n",
      "194            57     01/12/2013     NaN\n",
      "230            64            NaN     NaN\n",
      "278            74            NaN   444.0\n",
      "318            77     01/03/2014     NaN\n",
      "351            81            NaN   343.0\n",
      "453            94            NaN     NaN\n",
      "519           104            NaN    97.0\n",
      "584           113            NaN    48.0\n",
      "636           123     08/03/2014     NaN\n",
      "693           131     22/01/2014     NaN\n",
      "708           135     11/03/2014     NaN\n",
      "738           139            NaN  6703.0\n",
      "798           152            NaN     NaN\n",
      "852           159            NaN   134.0\n",
      "942           170            NaN   722.0\n",
      "996           174     14/05/2014     NaN\n",
      "1456          232     28/03/2014     NaN\n",
      "1725          276            NaN   174.0\n",
      "1780          284  Date_purchase     NaN\n",
      "1791          285     12/03/2014     NaN\n",
      "1861          298            NaN   153.0\n",
      "1867          299  Date_purchase     NaN\n",
      "1938          319     07/02/2014     NaN\n",
      "2028          338  Date_purchase     NaN\n",
      "2088          355     26/03/2014     NaN\n",
      "2149          371            NaN   100.0\n",
      "2159          378  Date_purchase     NaN\n",
      "2208          387            NaN    66.0\n",
      "2259          398  Date_purchase     NaN\n",
      "5909         1427  Date_purchase     NaN\n"
     ]
    }
   ],
   "source": [
    "lines_null_values = return_lines_with_null_values(concatenated_df)\n",
    "print(lines_null_values)"
   ]
  },
  {
   "cell_type": "markdown",
   "metadata": {},
   "source": [
    "4. Supprimer ensuite toutes les lignes avec des valeurs manquantes."
   ]
  },
  {
   "cell_type": "code",
   "execution_count": 990,
   "metadata": {},
   "outputs": [
    {
     "name": "stdout",
     "output_type": "stream",
     "text": [
      "      Customer_ID Date_purchase  Price\n",
      "1               2    04/11/2013  350.0\n",
      "3               4    07/11/2013  120.0\n",
      "4               5    07/11/2013  120.0\n",
      "5               6    07/11/2013  120.0\n",
      "6               7    07/11/2013   69.0\n",
      "...           ...           ...    ...\n",
      "5917         1715    26/08/2014  301.0\n",
      "5918         1715    31/10/2014   35.0\n",
      "5919         1715    27/09/2014   35.0\n",
      "5920         1715    16/07/2014  248.0\n",
      "5921         1715    11/12/2014  424.0\n",
      "\n",
      "[12692 rows x 3 columns]\n"
     ]
    }
   ],
   "source": [
    "# drop the lines with null values\n",
    "concatenated_df.dropna(inplace=True)\n",
    "print(concatenated_df)"
   ]
  },
  {
   "cell_type": "markdown",
   "metadata": {},
   "source": [
    "5. Vérifier les dates des transactions afin de garder que celles qui sont effectuées par les\n",
    "clients dans la période d’étude"
   ]
  },
  {
   "cell_type": "code",
   "execution_count": 991,
   "metadata": {},
   "outputs": [],
   "source": [
    "def filter_date(df: pd.DataFrame) -> pd.DataFrame:\n",
    "    # Vérifiez d'abord que la colonne 'Date_purchase' est au bon format de date\n",
    "    # erros = coerce permet de remplacer les valeurs non conforme par NaT\n",
    "    df[\"Date_purchase\"] = pd.to_datetime(\n",
    "        df[\"Date_purchase\"], format=\"%d/%m/%Y\", errors=\"coerce\"\n",
    "    )\n",
    "\n",
    "    # Définissez les dates minimales et maximales de la période d'étude\n",
    "    min_date = pd.to_datetime(\"2013-11-01\")\n",
    "    max_date = pd.to_datetime(\"2015-02-28\")\n",
    "\n",
    "    return df[(df[\"Date_purchase\"] >= min_date) & (df[\"Date_purchase\"] <= max_date)]"
   ]
  },
  {
   "cell_type": "code",
   "execution_count": 992,
   "metadata": {},
   "outputs": [
    {
     "name": "stdout",
     "output_type": "stream",
     "text": [
      "      Customer_ID Date_purchase  Price\n",
      "1               2    2013-11-04  350.0\n",
      "3               4    2013-11-07  120.0\n",
      "4               5    2013-11-07  120.0\n",
      "5               6    2013-11-07  120.0\n",
      "6               7    2013-11-07   69.0\n",
      "...           ...           ...    ...\n",
      "5917         1715    2014-08-26  301.0\n",
      "5918         1715    2014-10-31   35.0\n",
      "5919         1715    2014-09-27   35.0\n",
      "5920         1715    2014-07-16  248.0\n",
      "5921         1715    2014-12-11  424.0\n",
      "\n",
      "[12686 rows x 3 columns]\n"
     ]
    }
   ],
   "source": [
    "concatenated_df = filter_date(concatenated_df)\n",
    "print(concatenated_df)"
   ]
  },
  {
   "cell_type": "markdown",
   "metadata": {},
   "source": [
    "6. Afficher les statistiques descriptives de base.\n"
   ]
  },
  {
   "cell_type": "code",
   "execution_count": 993,
   "metadata": {},
   "outputs": [
    {
     "name": "stdout",
     "output_type": "stream",
     "text": [
      "        Customer_ID                  Date_purchase         Price\n",
      "count  12686.000000                          12686  12686.000000\n",
      "mean     740.037837  2014-06-11 18:33:12.117294592    392.758315\n",
      "min        2.000000            2013-11-01 00:00:00     29.000000\n",
      "25%      356.250000            2014-03-05 00:00:00    150.000000\n",
      "50%      632.000000            2014-06-15 00:00:00    297.000000\n",
      "75%     1122.000000            2014-09-23 18:00:00    522.000000\n",
      "max     4445.000000            2015-01-29 00:00:00  29000.000000\n",
      "std      468.014756                            NaN    511.112074\n"
     ]
    }
   ],
   "source": [
    "# statistics of dataframe\n",
    "print(concatenated_df.describe())"
   ]
  },
  {
   "cell_type": "markdown",
   "metadata": {},
   "source": [
    "7. Vérifier s’il y a des valeurs aberrantes dans la colonne Price"
   ]
  },
  {
   "cell_type": "code",
   "execution_count": 994,
   "metadata": {},
   "outputs": [],
   "source": [
    "def identify_outlier(df : pd.DataFrame) -> pd.DataFrame:\n",
    "    # Calcul des quartiles et de l'écart interquartile (IQR) || indexation slicing\n",
    "    Q1 = df[\"Price\"].quantile(0.25)\n",
    "    Q3 = df[\"Price\"].quantile(0.75)\n",
    "    IQR = Q3 - Q1\n",
    "    lower_bound = Q1 - (1.5 * IQR)\n",
    "    upper_bound = Q3 + (1.5 * IQR)\n",
    "\n",
    "    # Identification des valeurs aberrantes\n",
    "    outliers = df[(df[\"Price\"] < lower_bound) | (df[\"Price\"] > upper_bound)]\n",
    "    print(\"Valeurs aberrantes détectées :\")\n",
    "    print(outliers)"
   ]
  },
  {
   "cell_type": "code",
   "execution_count": 995,
   "metadata": {},
   "outputs": [
    {
     "name": "stdout",
     "output_type": "stream",
     "text": [
      "Valeurs aberrantes détectées :\n",
      "      Customer_ID Date_purchase   Price\n",
      "39             26    2013-12-11  1648.0\n",
      "41             27    2014-03-14  4567.0\n",
      "64             35    2013-11-14  4192.0\n",
      "93             43    2014-05-07  3690.0\n",
      "240            67    2014-01-06  1154.0\n",
      "...           ...           ...     ...\n",
      "5557         1532    2014-10-05  1219.0\n",
      "5605         1554    2014-08-11  1260.0\n",
      "5614         1554    2014-10-29  1305.0\n",
      "5790         1646    2014-11-25  1095.0\n",
      "5796         1646    2014-08-12  1139.0\n",
      "\n",
      "[447 rows x 3 columns]\n"
     ]
    }
   ],
   "source": [
    "identify_outlier(concatenated_df)"
   ]
  },
  {
   "cell_type": "markdown",
   "metadata": {},
   "source": [
    "7. Explication : Les valeurs aberrantes peuvent apparaître pour diverses raisons, telles que des erreurs de saisie ou de mesure, des erreurs dans les données, ou elles peuvent être des valeurs légitimes qui représentent une variation réelle dans les données."
   ]
  },
  {
   "cell_type": "markdown",
   "metadata": {},
   "source": [
    "8. le mois qui a enregistré le plus grand nombre de ventes et le montant total de ce mois "
   ]
  },
  {
   "cell_type": "code",
   "execution_count": 996,
   "metadata": {},
   "outputs": [],
   "source": [
    "def max_sales_in_mont(df: pd.DataFrame) -> pd.DataFrame:\n",
    "    # group by mont\n",
    "    df[\"Month\"] = df[\"Date_purchase\"].dt.month\n",
    "    sales_by_month = df.groupby(\"Month\").agg({\"Price\": [\"count\", \"sum\"]})\n",
    "    print(sales_by_month)\n",
    "    max_sales_month = sales_by_month[\"Price\"][\"count\"].idxmax()\n",
    "    # return the sum of price of max sales month\n",
    "    price_total = sales_by_month[\"Price\"][\"sum\"][max_sales_month]\n",
    "    return max_sales_month, price_total"
   ]
  },
  {
   "cell_type": "code",
   "execution_count": 997,
   "metadata": {},
   "outputs": [
    {
     "name": "stdout",
     "output_type": "stream",
     "text": [
      "      Price           \n",
      "      count        sum\n",
      "Month                 \n",
      "1       994  401940.00\n",
      "2       856  329738.00\n",
      "3      1014  390248.00\n",
      "4       972  346718.00\n",
      "5       908  338582.00\n",
      "6       821  296689.00\n",
      "7       940  338690.00\n",
      "8      1054  404342.00\n",
      "9      1009  439230.00\n",
      "10     1154  483989.00\n",
      "11     1561  670434.50\n",
      "12     1403  541931.49\n",
      "Le mois où les ventes sont les plus importantes est le mois de :  11\n",
      "Le montant total des ventes pour ce mois est de :  670434.5\n"
     ]
    }
   ],
   "source": [
    "result = max_sales_in_mont(concatenated_df)\n",
    "month,totalPrice = result[0], result[1]\n",
    "print(\"Le mois où les ventes sont les plus importantes est le mois de : \", month)\n",
    "print(\"Le montant total des ventes pour ce mois est de : \", totalPrice)"
   ]
  },
  {
   "cell_type": "markdown",
   "metadata": {},
   "source": [
    "9. Afficher un graphe qui montre l’évolution du montant total par mois"
   ]
  },
  {
   "cell_type": "code",
   "execution_count": 998,
   "metadata": {},
   "outputs": [],
   "source": [
    "def plot_monthly_sales_evolution(df):\n",
    "    # Group by 'Month' and calculate the sum of 'Price' for each month\n",
    "    monthly_sales = df.groupby(\"Month\")[\"Price\"].sum()\n",
    "\n",
    "    # Plot the results\n",
    "    plt.figure(figsize=(12, 6))\n",
    "    monthly_sales.plot(kind=\"line\", marker=\"o\")\n",
    "    plt.title(\"Evolution du montant total des ventes par mois\")\n",
    "    plt.xlabel(\"Mois\")\n",
    "    plt.ylabel(\"Montant Total\")\n",
    "    plt.grid(True)"
   ]
  },
  {
   "cell_type": "code",
   "execution_count": 999,
   "metadata": {},
   "outputs": [
    {
     "data": {
      "image/png": "[encoded data removed]",
      "text/plain": [
       "<Figure size 1200x600 with 1 Axes>"
      ]
     },
     "metadata": {},
     "output_type": "display_data"
    }
   ],
   "source": [
    "plot_monthly_sales_evolution(concatenated_df)\n",
    "# print client sorted by userId\n"
   ]
  },
  {
   "cell_type": "markdown",
   "metadata": {},
   "source": [
    "10. Creation des variables pour chaque client"
   ]
  },
  {
   "cell_type": "code",
   "execution_count": 1000,
   "metadata": {},
   "outputs": [],
   "source": [
    "def create_variable_client(df: pd.DataFrame) -> pd.DataFrame:\n",
    "    client_df = pd.DataFrame(df[\"Customer_ID\"].unique(), columns=[\"Customer_ID\"])\n",
    "    # a. Fréquence : Nombre de transactions observées au cours de la période analysée.\n",
    "    frequency = df.groupby(\"Customer_ID\")[\"Customer_ID\"].count()\n",
    "    client_df[\"Frequency\"] = frequency.values\n",
    "    # change frequency that are equal to 1 to 2\n",
    "    frequency[frequency == 1] = 2\n",
    "    # Récence : le nombre de jours entre le premier jour de la période d'étude et le jour du dernier achat\n",
    "    rencency = df.groupby(\"Customer_ID\")[\"Date_purchase\"].max() - pd.to_datetime(\n",
    "        \"2013-11-01\"\n",
    "    )\n",
    "    client_df[\"Recency\"] = rencency.values\n",
    "    # Longueur : nombre de jours entre le premier et le dernier achat (Longueur de la relation client/site e-commerce)\n",
    "    lenght = (\n",
    "        df.groupby(\"Customer_ID\")[\"Date_purchase\"].max()\n",
    "        - df.groupby(\"Customer_ID\")[\"Date_purchase\"].min()\n",
    "    )\n",
    "    client_df[\"Length\"] = lenght.values\n",
    "    #  Montant : le montant total dépensé par le client au cours de la période analysée.(MAD)\n",
    "    amount = df.groupby(\"Customer_ID\")[\"Price\"].sum()\n",
    "    client_df[\"Amount\"] = amount.values\n",
    "    # NbrP1 : indique le nombre des transactions observées dans la première période. (01/11/2013 - 30/06/2014)\n",
    "    nbrP1 = (\n",
    "        df[df[\"Date_purchase\"] <= pd.to_datetime(\"2014-06-30\")]\n",
    "        .groupby(\"Customer_ID\")[\"Customer_ID\"]\n",
    "        .count()\n",
    "    )\n",
    "    client_df[\"NbrP1\"] = client_df[\"Customer_ID\"].map(nbrP1).fillna(0)\n",
    "    # NbrP2 : indique le nombre des transactions observées dans la deuxième période. (01/07/2014 - 28/02/2015)\n",
    "    nbrP2 = (\n",
    "        df[df[\"Date_purchase\"] > pd.to_datetime(\"2014-06-30\")]\n",
    "        .groupby(\"Customer_ID\")[\"Customer_ID\"]\n",
    "        .count()\n",
    "    )\n",
    "    client_df[\"NbrP2\"] = client_df[\"Customer_ID\"].map(nbrP2).fillna(0)\n",
    "    # g. Inter_achat : Nombre moyen de jours entre les achats.\n",
    "    inter_achat = lenght / (frequency - 1)\n",
    "    client_df[\"Inter_achat\"] = inter_achat.values\n",
    "    # replace NaT with 0 days\n",
    "    client_df[\"Inter_achat\"] = client_df[\"Inter_achat\"].fillna(pd.Timedelta(days=0))\n",
    "    # sort id client\n",
    "    client_df.sort_values(by=[\"Customer_ID\"], inplace=True)\n",
    "    return client_df"
   ]
  },
  {
   "cell_type": "code",
   "execution_count": 1001,
   "metadata": {},
   "outputs": [
    {
     "name": "stdout",
     "output_type": "stream",
     "text": [
      "<class 'pandas.core.frame.DataFrame'>\n",
      "Index: 1717 entries, 0 to 1672\n",
      "Data columns (total 8 columns):\n",
      " #   Column       Non-Null Count  Dtype          \n",
      "---  ------       --------------  -----          \n",
      " 0   Customer_ID  1717 non-null   int64          \n",
      " 1   Frequency    1717 non-null   int64          \n",
      " 2   Recency      1717 non-null   timedelta64[ns]\n",
      " 3   Length       1717 non-null   timedelta64[ns]\n",
      " 4   Amount       1717 non-null   float64        \n",
      " 5   NbrP1        1717 non-null   float64        \n",
      " 6   NbrP2        1717 non-null   float64        \n",
      " 7   Inter_achat  1717 non-null   timedelta64[ns]\n",
      "dtypes: float64(3), int64(2), timedelta64[ns](3)\n",
      "memory usage: 120.7 KB\n",
      "None\n"
     ]
    }
   ],
   "source": [
    "# create client df sorted by Customer_ID\n",
    "client_df = create_variable_client(concatenated_df)\n",
    "print(client_df.info())"
   ]
  },
  {
   "cell_type": "markdown",
   "metadata": {},
   "source": [
    "11. Afficher les statistiques descriptives de base (min, max, moyenne, ecart type) pour les\n",
    "variables Longueur, Récence, Fréquence et Montant."
   ]
  },
  {
   "cell_type": "code",
   "execution_count": 1002,
   "metadata": {},
   "outputs": [
    {
     "name": "stdout",
     "output_type": "stream",
     "text": [
      "         Frequency                      Recency                       Length  \\\n",
      "count  1717.000000                         1717                         1717   \n",
      "mean      7.388468  274 days 05:14:30.122306348  143 days 01:38:57.798485730   \n",
      "std       5.387972  135 days 08:51:00.095337952  117 days 08:44:47.461990072   \n",
      "min       1.000000              1 days 00:00:00              0 days 00:00:00   \n",
      "25%       3.000000            151 days 00:00:00             35 days 00:00:00   \n",
      "50%       6.000000            344 days 00:00:00            121 days 00:00:00   \n",
      "75%      10.000000            386 days 00:00:00            238 days 00:00:00   \n",
      "max      20.000000            454 days 00:00:00            440 days 00:00:00   \n",
      "\n",
      "             Amount  \n",
      "count   1717.000000  \n",
      "mean    2901.882347  \n",
      "std     2959.656824  \n",
      "min       69.000000  \n",
      "25%     1048.000000  \n",
      "50%     1892.000000  \n",
      "75%     3711.000000  \n",
      "max    29000.000000  \n"
     ]
    }
   ],
   "source": [
    "selected_columns = [\"Frequency\", \"Recency\", \"Length\", \"Amount\"]\n",
    "print(client_df[selected_columns].describe())"
   ]
  },
  {
   "cell_type": "markdown",
   "metadata": {},
   "source": [
    "# Partie 2\n",
    "1. Comment interpréter la valeur 0 dans la colonne Inter_achat : # r= cela signifie que le client n'a fait qu'un seul achat ou bien que le client a fait plusieurs achats le même jour \n",
    "Remplacer cette valeur par la valeur moyenne de cette colonne (en prenant en compte que les valeurs différentes à zéro)."
   ]
  },
  {
   "cell_type": "code",
   "execution_count": 1003,
   "metadata": {},
   "outputs": [],
   "source": [
    "# Remplacer cette valeur par la valeur moyenne de cette colonne (en prenant en compte que les valeurs différentes à zéro).\n",
    "def change_zero_value(df: pd.DataFrame) -> pd.DataFrame:\n",
    "    mean_inter_achat = df[df[\"Inter_achat\"] != 0][\"Inter_achat\"].mean()\n",
    "    df[\"Inter_achat\"] = df[\"Inter_achat\"].replace(pd.Timedelta(days=0), mean_inter_achat)\n",
    "    return df"
   ]
  },
  {
   "cell_type": "code",
   "execution_count": 1004,
   "metadata": {},
   "outputs": [
    {
     "name": "stdout",
     "output_type": "stream",
     "text": [
      "0      37 days 23:10:59.388924950\n",
      "1      37 days 23:10:59.388924950\n",
      "2      37 days 23:10:59.388924950\n",
      "3      37 days 23:10:59.388924950\n",
      "4      37 days 23:10:59.388924950\n",
      "                  ...            \n",
      "1413            289 days 00:00:00\n",
      "1414             44 days 00:00:00\n",
      "1415             16 days 12:00:00\n",
      "1526            173 days 00:00:00\n",
      "1672              9 days 00:00:00\n",
      "Name: Inter_achat, Length: 1717, dtype: timedelta64[ns]\n"
     ]
    }
   ],
   "source": [
    "client_df = change_zero_value(client_df)\n",
    "print(client_df['Inter_achat'])"
   ]
  },
  {
   "cell_type": "markdown",
   "metadata": {},
   "source": [
    "2. Sauvegarder le data frame final sous le nom \"LRFMP1P2IT.xlsx\" avec comme première\n",
    "colonne Customer_ID."
   ]
  },
  {
   "cell_type": "code",
   "execution_count": 1005,
   "metadata": {},
   "outputs": [],
   "source": [
    "client_df.to_excel(\"./LRFMP1P2IT.xlsx\", index=False)\n"
   ]
  },
  {
   "cell_type": "markdown",
   "metadata": {},
   "source": [
    "3. Charger le fichier généré par le modèle de clustering (\"Clustering_Model_result.json\")\n",
    "sous forme d’un DataFrame."
   ]
  },
  {
   "cell_type": "code",
   "execution_count": 1006,
   "metadata": {},
   "outputs": [
    {
     "name": "stdout",
     "output_type": "stream",
     "text": [
      "      Customer_ID  Frequency   Recency    Length  Monetary    Cluster\n",
      "0               1  -1.185691 -2.011266 -1.219013 -0.988066  cluster_5\n",
      "1               2  -1.185691 -1.996520 -1.219013 -0.888919  cluster_5\n",
      "2               3  -1.185691 -1.989147 -1.219013 -0.988066  cluster_5\n",
      "3               4  -1.185691 -1.974402 -1.219013 -0.970071  cluster_5\n",
      "4               5  -1.185691 -1.974402 -1.219013 -0.970071  cluster_5\n",
      "...           ...        ...       ...       ...       ...        ...\n",
      "1712         1713  -0.814494  0.886274  0.996309 -0.495858  cluster_2\n",
      "1713         1714  -0.443296 -1.583639 -1.031562 -0.676864  cluster_5\n",
      "1714         1715   0.855894  0.967375  2.180654 -0.089390  cluster_1\n",
      "1715         1716  -0.443296 -0.875843 -0.844112  0.006581  cluster_0\n",
      "1716         1717  -1.000092 -1.340334 -1.142328 -0.525497  cluster_5\n",
      "\n",
      "[1717 rows x 6 columns]\n"
     ]
    }
   ],
   "source": [
    "clustering_model = pd.read_json(\"./Clustering_Model_result.json\")\n",
    "print(clustering_model)"
   ]
  },
  {
   "cell_type": "markdown",
   "metadata": {},
   "source": [
    "4. les traitements nécessaires pour ajouter au dernier DataFrame généré dans la partie une nouvelle colonne nommé Cluster, qui indique le N° du Cluster de chaque client."
   ]
  },
  {
   "cell_type": "code",
   "execution_count": 1007,
   "metadata": {},
   "outputs": [],
   "source": [
    "def map_cluster(clients: pd.DataFrame , model : pd.DataFrame) -> pd.DataFrame:\n",
    "    # map the cluster to the client\n",
    "    clients[\"Cluster\"] = model[\"Cluster\"].values\n",
    "    return clients    "
   ]
  },
  {
   "cell_type": "code",
   "execution_count": 1008,
   "metadata": {},
   "outputs": [
    {
     "name": "stdout",
     "output_type": "stream",
     "text": [
      "      Customer_ID  Frequency  Recency   Length  Amount  NbrP1  NbrP2  \\\n",
      "0               2          1   3 days   0 days   350.0    1.0    0.0   \n",
      "1               4          1   6 days   0 days   120.0    1.0    0.0   \n",
      "2               5          1   6 days   0 days   120.0    1.0    0.0   \n",
      "3               6          1   6 days   0 days   120.0    1.0    0.0   \n",
      "4               7          1   6 days   0 days    69.0    1.0    0.0   \n",
      "...           ...        ...      ...      ...     ...    ...    ...   \n",
      "1413         1715          2 360 days 289 days   808.0    6.0    6.0   \n",
      "1414         1716          4 367 days 132 days  1443.0    5.0    0.0   \n",
      "1415         1717          3 118 days  33 days  1009.0    2.0    0.0   \n",
      "1526         4444          3 394 days 346 days  1413.0    0.0    1.0   \n",
      "1672         4445          2  31 days   9 days  1134.0    0.0    1.0   \n",
      "\n",
      "                    Inter_achat    Cluster  \n",
      "0    37 days 23:10:59.388924950  cluster_5  \n",
      "1    37 days 23:10:59.388924950  cluster_5  \n",
      "2    37 days 23:10:59.388924950  cluster_5  \n",
      "3    37 days 23:10:59.388924950  cluster_5  \n",
      "4    37 days 23:10:59.388924950  cluster_5  \n",
      "...                         ...        ...  \n",
      "1413          289 days 00:00:00  cluster_2  \n",
      "1414           44 days 00:00:00  cluster_5  \n",
      "1415           16 days 12:00:00  cluster_1  \n",
      "1526          173 days 00:00:00  cluster_0  \n",
      "1672            9 days 00:00:00  cluster_5  \n",
      "\n",
      "[1717 rows x 9 columns]\n"
     ]
    }
   ],
   "source": [
    "client_df = map_cluster(client_df, clustering_model)\n",
    "print(client_df)"
   ]
  },
  {
   "cell_type": "markdown",
   "metadata": {},
   "source": [
    "5. Pour chaque groupe de client, calculer le nombre correspondant de clients, la longueur\n",
    "moyenne (L), la récence moyenne (R), la fréquence moyenne (F), le montant moyen (M)."
   ]
  },
  {
   "cell_type": "code",
   "execution_count": 1034,
   "metadata": {},
   "outputs": [
    {
     "name": "stdout",
     "output_type": "stream",
     "text": [
      "                              Mean(L)                     Mean(R)   Mean(F)  \\\n",
      "Cluster                                                                       \n",
      "cluster_0 130 days 04:40:18.320610688 245 days 10:43:03.206106872  6.919847   \n",
      "cluster_1           145 days 04:26:40 301 days 09:16:11.428571428  8.142857   \n",
      "cluster_2 149 days 21:18:35.044247788 283 days 10:41:24.955752212  7.064897   \n",
      "cluster_3    155 days 00:40:19.200000    291 days 07:23:31.200000  7.776000   \n",
      "cluster_4 151 days 21:54:46.956521740 293 days 09:33:54.782608696  8.282609   \n",
      "cluster_5 128 days 18:08:35.649867374 244 days 17:11:17.984084880  6.023873   \n",
      "cluster_6 154 days 11:15:33.333333334 295 days 16:35:33.333333332  9.759259   \n",
      "\n",
      "               Mean(M)  \n",
      "Cluster                 \n",
      "cluster_0  2623.767176  \n",
      "cluster_1  3038.285714  \n",
      "cluster_2  2930.982301  \n",
      "cluster_3  3190.164000  \n",
      "cluster_4  3117.702899  \n",
      "cluster_5  2351.132599  \n",
      "cluster_6  3784.598765  \n"
     ]
    }
   ],
   "source": [
    "def calculate_mean(df: pd.DataFrame) -> pd.DataFrame:\n",
    "    # Check if the dataframe has the original columns or the renamed ones\n",
    "    if set([\"Length\", \"Recency\", \"Frequency\", \"Amount\"]).issubset(df.columns):\n",
    "        selected_columns = [\"Length\", \"Recency\", \"Frequency\", \"Amount\"]\n",
    "    else:\n",
    "        selected_columns = [\"Mean(L)\", \"Mean(R)\", \"Mean(F)\", \"Mean(M)\"]\n",
    "\n",
    "    df_stats = df.groupby(\"Cluster\")[selected_columns].mean()\n",
    "\n",
    "    # Rename columns only if they are the original names\n",
    "    if \"Length\" in selected_columns:\n",
    "        df_stats.rename(\n",
    "            columns={\n",
    "                \"Length\": \"Mean(L)\",\n",
    "                \"Recency\": \"Mean(R)\",\n",
    "                \"Frequency\": \"Mean(F)\",\n",
    "                \"Amount\": \"Mean(M)\",\n",
    "            },\n",
    "            inplace=True,\n",
    "        )\n",
    "\n",
    "    return df_stats\n",
    "\n",
    "\n",
    "statistics_df = calculate_mean(client_df)\n",
    "print(calculate_mean(statistics_df))"
   ]
  }
 ],
 "metadata": {
  "kernelspec": {
   "display_name": "myprojectmini",
   "language": "python",
   "name": "python3"
  },
  "language_info": {
   "codemirror_mode": {
    "name": "ipython",
    "version": 3
   },
   "file_extension": ".py",
   "mimetype": "text/x-python",
   "name": "python",
   "nbconvert_exporter": "python",
   "pygments_lexer": "ipython3",
   "version": "3.11.0"
  }
 },
 "nbformat": 4,
 "nbformat_minor": 2
}
